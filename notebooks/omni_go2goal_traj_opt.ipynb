{
 "cells": [
  {
   "cell_type": "code",
   "execution_count": null,
   "id": "4333244c",
   "metadata": {},
   "outputs": [],
   "source": [
    "from cycler import cycler\n",
    "import cvxpy as cp\n",
    "import matplotlib.pyplot as plt\n",
    "import numpy as np\n",
    "import plotly.graph_objects as go\n",
    "\n",
    "from dimp.robots import (\n",
    "    OmniState, OmniInput, OmniRobot, RobotMPCData\n",
    ")"
   ]
  },
  {
   "cell_type": "markdown",
   "id": "669ed2a2",
   "metadata": {},
   "source": [
    "### Create The Data for the MPC"
   ]
  },
  {
   "cell_type": "code",
   "execution_count": null,
   "id": "f3789998",
   "metadata": {},
   "outputs": [],
   "source": [
    "ns = 2      # Number of states (x, y)\n",
    "ni = 2      # Number of inputs (vx, vy)\n",
    "\n",
    "nc = 100    # Number of control intervals\n",
    "\n",
    "s0 = cp.Parameter(ns, name=\"s0\")\n",
    "\n",
    "mpc_data = RobotMPCData(\n",
    "    nc=nc,\n",
    "    states_list=[OmniState(s0)] + [OmniState(cp.Variable(ns, name=f\"s{k+1}\")) for k in range(nc)],\n",
    "    statesbar_list=[OmniState(s0)] + [OmniState(cp.Parameter(ns)) for _ in range(nc)],\n",
    "    inputs_list=[OmniInput(cp.Variable(ni, name=f\"i{k}\")) for k in range(nc)],\n",
    "    inputsbar_list=[OmniInput(cp.Parameter(ni)) for _ in range(nc)],\n",
    ")\n",
    "\n",
    "dt = 0.1\n",
    "robot = OmniRobot(dt=dt, mpc_data=mpc_data)\n",
    "\n",
    "# Parameters\n",
    "p_goal = np.array([10.0, 5.0])\n",
    "v_max = 1.0"
   ]
  },
  {
   "cell_type": "markdown",
   "id": "983809b1",
   "metadata": {},
   "source": [
    "### Create The MPC Problem"
   ]
  },
  {
   "cell_type": "code",
   "execution_count": null,
   "id": "faf42133",
   "metadata": {},
   "outputs": [],
   "source": [
    "weights = cp.Parameter(2, name=\"weights\", nonneg=True)\n",
    "\n",
    "def create_qcqp():\n",
    "    objective = cp.Minimize(\n",
    "          0.5 * weights[0] * cp.sum([cp.pnorm(mpc_data.statei[i+1] - p_goal, p=2) for i in range(nc)])\n",
    "        + 0.5 * weights[1] * cp.sum([cp.pnorm(mpc_data.inputi[i], p=2) for i in range(nc)])\n",
    "    )\n",
    "\n",
    "    dynamics_constraints = robot.dt_dynamics_constraint()\n",
    "\n",
    "    input_constraints = [\n",
    "        cp.norm(mpc_data.inputi[i], p=2) - v_max <= 0 for i in range(nc)\n",
    "    ]\n",
    "\n",
    "    constraints = dynamics_constraints + input_constraints\n",
    "\n",
    "    problem = cp.Problem(objective, constraints)\n",
    "\n",
    "    return problem\n",
    "\n",
    "qcqp_problem = create_qcqp()\n",
    "assert qcqp_problem.is_dpp()"
   ]
  },
  {
   "cell_type": "markdown",
   "id": "09f8dc0a",
   "metadata": {},
   "source": [
    "### Plot the Trajectory"
   ]
  },
  {
   "cell_type": "code",
   "execution_count": null,
   "id": "5bb69027",
   "metadata": {},
   "outputs": [],
   "source": [
    "def plot_trajectory(states):\n",
    "    steps = states.shape[0]\n",
    "\n",
    "    xm, xM = states[:, 0].min() - 1, states[:, 0].max() + 1\n",
    "    ym, yM = states[:, 1].min() - 1, states[:, 1].max() + 1\n",
    "\n",
    "    fig = go.Figure(\n",
    "        data=[\n",
    "            go.Scatter(x=states[:, 0], y=states[:, 1],\n",
    "                        mode=\"lines\", name=\"Trajectory\",\n",
    "                        line=dict(width=2, color=\"rgba(0, 0, 255, 0.5)\", dash='dot')),\n",
    "            go.Scatter(x=[states[0, 0]], y=[states[0, 1]],\n",
    "                        mode=\"markers\", name=\"Robot\",\n",
    "                        marker=dict(color=\"blue\", size=10)),\n",
    "        ])\n",
    "\n",
    "    fig.update_layout(width=600, height=450,\n",
    "        xaxis=dict(range=[xm, xM], autorange=False, zeroline=False, scaleanchor=\"y\"),\n",
    "        yaxis=dict(range=[ym, yM], autorange=False, zeroline=False),\n",
    "        title_text=\"Trajectory\", title_x=0.5,\n",
    "        updatemenus = [dict(type = \"buttons\",\n",
    "            buttons = [\n",
    "                dict(\n",
    "                    args = [None, {\"frame\": {\"duration\": 10, \"redraw\": False},\n",
    "                                    \"fromcurrent\": True, \"transition\": {\"duration\": 10}, \"mode\": \"immediate\"}],\n",
    "                    label = \"Play\",\n",
    "                    method = \"animate\",\n",
    "                )])],\n",
    "    )\n",
    "\n",
    "    fig.update(frames=[\n",
    "        go.Frame(\n",
    "            data=[go.Scatter(x=[states[k, 0]], y=[states[k, 1]])],\n",
    "            traces=[1]\n",
    "        ) for k in range(steps)])\n",
    "\n",
    "    fig.show()\n",
    "\n",
    "    fig.write_html(\"omni_robot_mpc.html\", include_plotlyjs=\"cdn\", full_html=False)"
   ]
  },
  {
   "cell_type": "code",
   "execution_count": null,
   "id": "553f8920",
   "metadata": {},
   "outputs": [],
   "source": [
    "s0.value = np.array([0, 0])\n",
    "weights.value = np.array([1.0, 0.1])\n",
    "\n",
    "qcqp_problem.solve()"
   ]
  },
  {
   "cell_type": "code",
   "execution_count": null,
   "id": "20d8b0f3",
   "metadata": {},
   "outputs": [],
   "source": [
    "default_cycler = (\n",
    "    cycler(color=['#E41A1C', '#377EB8', '#4DAF4A', '#984EA3', '#FF7F00', '#FFFF33', '#A65628', '#F781BF', '#999999']) +\n",
    "    # cycler(color=['#0072BD', '#D95319', '#EDB120', '#7E2F8E', '#77AC30', '#4DBEEE', '#A2142F']) +\n",
    "    cycler('linestyle', ['-', '--', '-', '--', '-', '--', '-', '--', '-'])\n",
    ")\n",
    "\n",
    "textsize = 12\n",
    "labelsize = 12\n",
    "\n",
    "plt.rc('font', family='serif', serif='Times')\n",
    "plt.rc('text', usetex=True)\n",
    "plt.rc('xtick', labelsize=textsize)\n",
    "plt.rc('ytick', labelsize=textsize)\n",
    "plt.rc('axes', labelsize=labelsize, prop_cycle=default_cycler)\n",
    "plt.rc('legend', fontsize=textsize)\n",
    "\n",
    "plt.rc(\"axes\", grid=True, xmargin=0)\n",
    "plt.rc(\"grid\", linestyle='dotted', linewidth=0.25)\n",
    "\n",
    "plt.rcParams['figure.constrained_layout.use'] = True"
   ]
  },
  {
   "cell_type": "markdown",
   "id": "b926a383",
   "metadata": {},
   "source": [
    "### Visualize the State and Input Evolution"
   ]
  },
  {
   "cell_type": "code",
   "execution_count": null,
   "id": "0c86d3f0",
   "metadata": {},
   "outputs": [],
   "source": [
    "fig, ax = plt.subplots(1, 2)\n",
    "\n",
    "ax[0].plot(\n",
    "    dt * np.arange(nc + 1),\n",
    "    [mpc_data.statei[i].value for i in range(nc + 1)],\n",
    "    label=[r\"$s_0$\", r\"$s_1$\"]\n",
    ")\n",
    "ax[0].set_title(\"States\")\n",
    "ax[0].set_xlabel(\"Time [s]\")\n",
    "ax[0].set_ylabel(\"Position [m]\")\n",
    "ax[0].legend()\n",
    "\n",
    "ax[1].plot(\n",
    "    dt * np.arange(nc),\n",
    "    [mpc_data.inputi[i].value for i in range(nc)],\n",
    "    label=[r\"$i_0$\", r\"$i_1$\"]\n",
    ")\n",
    "ax[1].set_title(\"Inputs\")\n",
    "ax[1].set_xlabel(\"Time [s]\")\n",
    "ax[1].set_ylabel(\"Velocity [N]\")\n",
    "ax[1].legend()"
   ]
  }
 ],
 "metadata": {
  "kernelspec": {
   "display_name": ".venv (3.12.9)",
   "language": "python",
   "name": "python3"
  },
  "language_info": {
   "codemirror_mode": {
    "name": "ipython",
    "version": 3
   },
   "file_extension": ".py",
   "mimetype": "text/x-python",
   "name": "python",
   "nbconvert_exporter": "python",
   "pygments_lexer": "ipython3",
   "version": "3.12.9"
  }
 },
 "nbformat": 4,
 "nbformat_minor": 5
}
